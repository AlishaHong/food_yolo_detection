{
 "cells": [
  {
   "cell_type": "code",
   "execution_count": null,
   "metadata": {},
   "outputs": [
    {
     "name": "stdout",
     "output_type": "stream",
     "text": [
      "클래스별 샘플 분포: {0: 198, 1: 213, 2: 217, 3: 232, 4: 187, 5: 174}\n"
     ]
    }
   ],
   "source": [
    "# 클래스별 이미지 데이터 분포 확인하기\n",
    "\n",
    "import os\n",
    "\n",
    "# 최상위 train 폴더 경로 설정\n",
    "train_dir = \"C:/Users/Sesame/food_yolo_detection/1st_seg_data_test_241121/valid\"\n",
    "class_counts = {}\n",
    "\n",
    "# train 디렉토리 내부의 모든 labels 폴더 탐색\n",
    "for root, dirs, files in os.walk(train_dir):\n",
    "    if \"labels\" in root:  # labels 폴더만 처리\n",
    "        for label_file in files:\n",
    "            if label_file.endswith('.txt'):\n",
    "                file_path = os.path.join(root, label_file)\n",
    "                with open(file_path, 'r') as f:\n",
    "                    for line in f:\n",
    "                        class_id = int(line.split()[0])  # 클래스 ID 가져오기\n",
    "                        class_counts[class_id] = class_counts.get(class_id, 0) + 1\n",
    "\n",
    "print(\"클래스별 샘플 분포:\", class_counts)"
   ]
  },
  {
   "cell_type": "code",
   "execution_count": null,
   "metadata": {},
   "outputs": [],
   "source": [
    "# 이미지 데이터파일과 매칭되는 텍스트 파일이 존재하는지 확인하고\n",
    "# 텍스트 파일에 레이블링된 객체의 값이 있는지 확인(빈 파일은 background로 인식되므로 모든 이미지 파일을 잘 가져오기 위함)\n",
    "\n",
    "import os\n",
    "\n",
    "label_dir = \"C:/Users/Sesame/food_yolo_detection/1st_seg_data_test_241121/train/01011001/labels\"\n",
    "image_dir = \"C:/Users/Sesame/food_yolo_detection/1st_seg_data_test_241121/train/01011001/images\"\n",
    "\n",
    "missing_label_count = 0\n",
    "empty_label_count = 0\n",
    "\n",
    "# 이미지와 라벨 파일 매칭 확인\n",
    "for image_file in os.listdir(image_dir):\n",
    "    #이미지 파일이 있을 경우\n",
    "    if image_file.endswith(('.jpg', '.png', '.jpeg')):\n",
    "        #이미지파일명(확장자를 제외한)에 txt를 붙여서 텍스트파일명의 경로 생성\n",
    "        label_file = os.path.join(label_dir, f\"{os.path.splitext(image_file)[0]}.txt\")\n",
    "        #같은 이름의 텍스트 파일이 없다면\n",
    "        if not os.path.exists(label_file):\n",
    "            print(f\"라벨 파일이 누락된 이미지: {image_file}\")\n",
    "            missing_label_count += 1\n",
    "        else:\n",
    "            #같은 이름의 텍스트 파일이 있다면\n",
    "            with open(label_file, 'r') as f:\n",
    "                #텍스트 파일을 읽고\n",
    "                lines = f.readlines()\n",
    "                #읽을 라인이 없다면\n",
    "                if not lines:\n",
    "                    print(f\"빈 라벨 파일: {label_file}\")\n",
    "                    empty_label_count += 1\n",
    "\n",
    "print(\"\\n=== 결과 ===\")\n",
    "print(f\"누락된 라벨 파일 수: {missing_label_count}\")\n",
    "print(f\"빈 라벨 파일 수: {empty_label_count}\")"
   ]
  },
  {
   "cell_type": "code",
   "execution_count": null,
   "metadata": {},
   "outputs": [
    {
     "name": "stdout",
     "output_type": "stream",
     "text": [
      "빈 라벨 파일 수: 0\n"
     ]
    }
   ],
   "source": [
    "# 위 코드 간소화 \n",
    "# 빈 텍스트파일만 탐지합니다.\n",
    "\n",
    "import os\n",
    "\n",
    "label_dir = \"C:/Users/Sesame/food_yolo_detection/1st_seg_data_test_241121/train/01011001/labels\"\n",
    "image_dir = \"C:/Users/Sesame/food_yolo_detection/1st_seg_data_test_241121/train/01011001/images\"\n",
    "\n",
    "missing_label_count = 0\n",
    "empty_label_count = 0\n",
    "\n",
    "# 이미지와 라벨 파일 매칭 확인\n",
    "for image_file in os.listdir(image_dir):\n",
    "    with open(label_file, 'r') as f:\n",
    "        lines = f.readlines()\n",
    "        if not lines:\n",
    "            print(f\"빈 라벨 파일: {label_file}\")\n",
    "            empty_label_count += 1\n",
    "\n",
    "print(f\"빈 라벨 파일 수: {empty_label_count}\")"
   ]
  },
  {
   "cell_type": "code",
   "execution_count": null,
   "metadata": {},
   "outputs": [
    {
     "name": "stdout",
     "output_type": "stream",
     "text": [
      "객체가 2개 이상인 라벨 파일:\n",
      "\n",
      "객체가 2개 이상인 파일 수: 0\n"
     ]
    }
   ],
   "source": [
    "# 텍스트 파일에 여러개의 객체가 존재하는 경우를 찾아냄 \n",
    "# 의도한 다중 객체를 제외하고 잘못 segmentation된 객체가 있는지 여부를 확인해야 할떄 사용\n",
    "# eX - 된장찌개만 탐지해야하는데 그릇의 무늬일부를 탐지하여 '된장찌개'라고 레이블링 되어 버리면 학습이 방해가 됨\n",
    "\n",
    "import os\n",
    "\n",
    "label_dir = \"1st_seg_data_test_241121/valid/12011008/labels\"\n",
    "\n",
    "files_with_multiple_objects = []\n",
    "\n",
    "# 라벨 디렉토리 내 모든 파일 확인\n",
    "for label_file in os.listdir(label_dir):\n",
    "    if label_file.endswith('.txt'):  # 라벨 파일인지 확인\n",
    "        file_path = os.path.join(label_dir, label_file)\n",
    "        with open(file_path, 'r') as f:\n",
    "            lines = f.readlines()\n",
    "            if len(lines) >= 2:  # 객체가 2개 이상이면\n",
    "                files_with_multiple_objects.append(label_file)\n",
    "\n",
    "# 결과 출력\n",
    "print(\"객체가 2개 이상인 라벨 파일:\")\n",
    "for file in files_with_multiple_objects:\n",
    "    print(file)\n",
    "\n",
    "print(f\"\\n객체가 2개 이상인 파일 수: {len(files_with_multiple_objects)}\")"
   ]
  },
  {
   "cell_type": "code",
   "execution_count": null,
   "metadata": {},
   "outputs": [],
   "source": []
  }
 ],
 "metadata": {
  "kernelspec": {
   "display_name": "yolov11",
   "language": "python",
   "name": "python3"
  },
  "language_info": {
   "codemirror_mode": {
    "name": "ipython",
    "version": 3
   },
   "file_extension": ".py",
   "mimetype": "text/x-python",
   "name": "python",
   "nbconvert_exporter": "python",
   "pygments_lexer": "ipython3",
   "version": "3.10.14"
  }
 },
 "nbformat": 4,
 "nbformat_minor": 2
}
